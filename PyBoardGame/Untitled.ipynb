{
 "cells": [
  {
   "cell_type": "code",
   "execution_count": 1,
   "metadata": {},
   "outputs": [
    {
     "name": "stdin",
     "output_type": "stream",
     "text": [
      "Enter your reminder:  fly\n",
      "Enter your desired hour:  9\n",
      "Enter your desired minute:  18\n",
      "Enter time on phone in seconds:  30\n",
      "Enter time for break in seconds:  30\n"
     ]
    },
    {
     "name": "stdout",
     "output_type": "stream",
     "text": [
      "time to\n",
      "fly\n"
     ]
    },
    {
     "name": "stdin",
     "output_type": "stream",
     "text": [
      "do you want to do this? please enter y or n:  y\n"
     ]
    },
    {
     "name": "stdout",
     "output_type": "stream",
     "text": [
      "good job\n"
     ]
    }
   ],
   "source": [
    "# singapore's favourite: imports\n",
    "from datetime import datetime\n",
    "from threading import Timer\n",
    "import time\n",
    "\n",
    "# input from user\n",
    "reminder = input(\"Enter your reminder: \")\n",
    "desiredhour= input(\"Enter your desired hour: \")\n",
    "desiredminute= input(\"Enter your desired minute: \")\n",
    "t1 = input(\"Enter time on phone in seconds: \")\n",
    "t2 = input(\"Enter time for break in seconds: \")\n",
    "\n",
    "def convert_time_to_seconds(days, hours, minutes, seconds):\n",
    "    hours += days * 24\n",
    "    minutes += hours * 60\n",
    "    seconds += minutes * 60\n",
    "    return seconds\n",
    "\n",
    "# some definitions for the house today \n",
    "def countdown1():\n",
    "    global t1\n",
    "    t1 = int(t1)\n",
    "    \n",
    "    # converts minutes into seconds\n",
    "    t1 = convert_time_to_seconds(0, 0, t1, 0)\n",
    "    \n",
    "    while t1:\n",
    "        mins, secs = divmod(t1, 60)\n",
    "        timer = '{:02d}:{:02d}'.format(mins, secs)\n",
    "        print(timer, end=\"\\r\")\n",
    "        time.sleep(1)\n",
    "        t1 -= 1\n",
    "      \n",
    "    print(\"time to\") \n",
    "    print(reminder)\n",
    "    \n",
    "def countdown2(t2):\n",
    "\n",
    "    while t2:\n",
    "        mins, secs = divmod(t2, 60)\n",
    "        timer = '{:02d}:{:02d}'.format(mins, secs)\n",
    "        print(timer, end=\"\\r\")\n",
    "        time.sleep(1)\n",
    "        t2 -= 1\n",
    "\n",
    "    print(\"good job\")\n",
    "    \n",
    "def starthour():\n",
    "     return int(desiredhour[0:2])\n",
    "\n",
    "def startminute():\n",
    "     return int(desiredminute[-2:])\n",
    "\n",
    "x=datetime.today()\n",
    "y=x.replace(day=x.day, hour=starthour(), minute=startminute(), second=0, microsecond=0)\n",
    "delta_t=y-x\n",
    "\n",
    "secs=delta_t.seconds+1\n",
    "\n",
    "\n",
    "t = Timer(secs, countdown1)\n",
    "t.start()\n",
    "   \n",
    "while t.is_alive():\n",
    "    pass\n",
    "question = input(\"do you want to do this? please enter y or n: \")\n",
    "if question == \"y\":\n",
    "    countdown2(int(t2))\n",
    "elif question == \"n\":\n",
    "    print(\"aww\")"
   ]
  },
  {
   "cell_type": "code",
   "execution_count": 9,
   "metadata": {},
   "outputs": [
    {
     "name": "stdout",
     "output_type": "stream",
     "text": [
      "asd\n"
     ]
    }
   ],
   "source": [
    "import re\n",
    "from datetime import timedelta\n",
    "\n",
    "\n",
    "regex = re.compile(r'((?P<hours>\\d+?)hr)?((?P<minutes>\\d+?)m)?((?P<seconds>\\d+?)s)?')\n",
    "\n",
    "\n",
    "def parse_time(time_str):\n",
    "    parts = regex.match(time_str)\n",
    "    if not parts:\n",
    "        return\n",
    "    parts = parts.groupdict()\n",
    "    time_params = {}\n",
    "    for name, param in parts.items():\n",
    "        if param:\n",
    "            time_params[name] = int(param)\n",
    "    return timedelta(**time_params)"
   ]
  },
  {
   "cell_type": "code",
   "execution_count": 4,
   "metadata": {},
   "outputs": [
    {
     "data": {
      "text/plain": [
       "3902"
      ]
     },
     "execution_count": 4,
     "metadata": {},
     "output_type": "execute_result"
    }
   ],
   "source": [
    "def convert_time_to_seconds(days, hours, minutes, seconds):\n",
    "    hours += days * 24\n",
    "    minutes += hours * 60\n",
    "    seconds += minutes * 60\n",
    "    return seconds"
   ]
  },
  {
   "cell_type": "code",
   "execution_count": 3,
   "metadata": {},
   "outputs": [
    {
     "ename": "ModuleNotFoundError",
     "evalue": "No module named 'kivy'",
     "output_type": "error",
     "traceback": [
      "\u001b[1;31m---------------------------------------------------------------------------\u001b[0m",
      "\u001b[1;31mModuleNotFoundError\u001b[0m                       Traceback (most recent call last)",
      "\u001b[1;32m<ipython-input-3-8b6254e11dfa>\u001b[0m in \u001b[0;36m<module>\u001b[1;34m\u001b[0m\n\u001b[1;32m----> 1\u001b[1;33m \u001b[1;32mfrom\u001b[0m \u001b[0mkivy\u001b[0m\u001b[1;33m.\u001b[0m\u001b[0mapp\u001b[0m \u001b[1;32mimport\u001b[0m \u001b[0mApp\u001b[0m\u001b[1;33m\u001b[0m\u001b[1;33m\u001b[0m\u001b[0m\n\u001b[0m\u001b[0;32m      2\u001b[0m \u001b[1;32mfrom\u001b[0m \u001b[0mkivy\u001b[0m\u001b[1;33m.\u001b[0m\u001b[0muix\u001b[0m\u001b[1;33m.\u001b[0m\u001b[0mlabel\u001b[0m \u001b[1;32mimport\u001b[0m \u001b[0mLabel\u001b[0m\u001b[1;33m\u001b[0m\u001b[1;33m\u001b[0m\u001b[0m\n\u001b[0;32m      3\u001b[0m \u001b[1;32mfrom\u001b[0m \u001b[0mkivy\u001b[0m\u001b[1;33m.\u001b[0m\u001b[0muix\u001b[0m\u001b[1;33m.\u001b[0m\u001b[0mimage\u001b[0m \u001b[1;32mimport\u001b[0m \u001b[0mImage\u001b[0m\u001b[1;33m\u001b[0m\u001b[1;33m\u001b[0m\u001b[0m\n\u001b[0;32m      4\u001b[0m \u001b[1;32mfrom\u001b[0m \u001b[0mkivy\u001b[0m\u001b[1;33m.\u001b[0m\u001b[0muix\u001b[0m\u001b[1;33m.\u001b[0m\u001b[0mtextinput\u001b[0m \u001b[1;32mimport\u001b[0m \u001b[0mTextInput\u001b[0m\u001b[1;33m\u001b[0m\u001b[1;33m\u001b[0m\u001b[0m\n\u001b[0;32m      5\u001b[0m \u001b[1;32mfrom\u001b[0m \u001b[0mplyer\u001b[0m \u001b[1;32mimport\u001b[0m \u001b[0mnotification\u001b[0m\u001b[1;33m\u001b[0m\u001b[1;33m\u001b[0m\u001b[0m\n",
      "\u001b[1;31mModuleNotFoundError\u001b[0m: No module named 'kivy'"
     ]
    }
   ],
   "source": [
    "from kivy.app import App\n",
    "from kivy.uix.label import Label\n",
    "from kivy.uix.image import Image\n",
    "from kivy.uix.textinput import TextInput\n",
    "from plyer import notification\n",
    "from kivy.clock import Clock\n",
    "\n",
    "class MainApp(App):\n",
    "    timer = 3\n",
    "    notification = 'get a life'\n",
    "\n",
    "    def build(self):\n",
    "        label = Label(text='Hello from Kivy',\n",
    "                      size_hint=(.5, .5),\n",
    "                      pos_hint={'center_x': .5, 'center_y': .5})\n",
    "        def on_enter(instance, value):\n",
    "            print('User pressed enter in', instance)\n",
    "            self.notification = value\n",
    "\n",
    "        textinput = TextInput(text=self.notification, multiline=False)\n",
    "        textinput.bind(on_text_validate=on_enter)\n",
    "\n",
    "        def callback(dt):\n",
    "            self.timer -= 1\n",
    "            label.text = str(self.timer)\n",
    "            if self.timer > 0:\n",
    "                Clock.schedule_once(callback, 1)\n",
    "            if self.timer == 0:\n",
    "                notification.notify(title = self.notification,message='* angry noises *',app_icon=None,  timeout=10,)\n",
    "        Clock.schedule_once(callback, 1)\n",
    "        return textinput\n",
    "\n",
    "if __name__ == '__main__':\n",
    "    app = MainApp()\n",
    "    app.run()"
   ]
  }
 ],
 "metadata": {
  "kernelspec": {
   "display_name": "Python 3",
   "language": "python",
   "name": "python3"
  },
  "language_info": {
   "codemirror_mode": {
    "name": "ipython",
    "version": 3
   },
   "file_extension": ".py",
   "mimetype": "text/x-python",
   "name": "python",
   "nbconvert_exporter": "python",
   "pygments_lexer": "ipython3",
   "version": "3.8.5"
  }
 },
 "nbformat": 4,
 "nbformat_minor": 4
}
