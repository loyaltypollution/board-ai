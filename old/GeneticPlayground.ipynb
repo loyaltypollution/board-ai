{
 "cells": [
  {
   "cell_type": "code",
   "execution_count": 1,
   "metadata": {},
   "outputs": [],
   "source": [
    "# options = 5\n",
    "\n",
    "# def mate(cells):\n",
    "#     global options\n",
    "# #     pos = random.randint(0, options-1)\n",
    "# #     firsthalf = (cells[0] >> pos) << pos\n",
    "# #     secondhalf = cells[1] & ((1 << pos) - 1)\n",
    "# #     return firsthalf+secondhalf\n",
    "#     return sum([cells[random.randint(0,1)] & (1 << i) for i in range(options)])\n",
    "\n",
    "# def mutate(cell):\n",
    "#     global options\n",
    "#     pos = random.randint(0, options-1)\n",
    "#     cell ^= 1 << pos\n",
    "#     if random.random() < 0.2:\n",
    "#         return mutate(cell)\n",
    "#     return cell\n",
    "\n",
    "# def evaluation(x):\n",
    "#     if x%2:\n",
    "#         return 0\n",
    "#     if x == 20:\n",
    "#         return 1\n",
    "#     if x > 18:\n",
    "#         return 0.1\n",
    "#     return 0.2\n",
    "\n",
    "# import random\n",
    "# size = 10\n",
    "# seed_population = [random.randrange(0, pow(2, options)) for i in range(size)]\n",
    "# population = seed_population\n",
    "# print(population)\n",
    "# for i in range(1000):\n",
    "#     scores = [(evaluation(x),x) for x in population]\n",
    "#     survival = [cell for score, cell in sorted(scores)[-int(size/2):]] \n",
    "#     crossfit = [mate(random.choices(survival,k=2)) for i in range(len(survival))]\n",
    "#     population = survival + crossfit\n",
    "#     mutated = [mutate(cell) if random.random() < 0.2 else cell for cell in population]\n",
    "#     population = mutated\n",
    "# print(population)"
   ]
  },
  {
   "cell_type": "code",
   "execution_count": 2,
   "metadata": {},
   "outputs": [
    {
     "name": "stdout",
     "output_type": "stream",
     "text": [
      "[20324, 38913, 2925, 24055, 6504, 43878, 16651, 9425, 49260, 23322] 55080\n",
      "[16651, 23322, 38913, 2925, 49260, 51467, 38913, 51816, 39529, 51816, 16395, 23354, 39041, 2917, 51308, 39533]\n",
      "[23354, 16395, 51308, 51467, 51816, 39041, 39533, 38913, 34819, 38913, 35402, 21051, 34817, 2666, 51563, 51305, 2682]\n",
      "[16395, 39533, 35402, 2666, 51305, 51308, 34817, 51816, 51816, 39009, 39532, 34881, 51301, 51277, 34817, 51816]\n",
      "[51816, 2666, 34817, 16395, 39009, 51816, 51305, 34817, 34817, 39017, 51817, 51816, 51305, 34921, 51233, 38945, 51817, 34881, 51273, 34923]\n",
      "[39017, 51305, 34817, 39009, 51273, 51817, 2666, 34921, 51233, 51816, 51241, 34913, 51241, 34857, 34889, 34921, 35433, 39017, 34817, 39033, 38977, 51833, 34821]\n",
      "[39017, 39017, 51817, 34817, 34817, 2666, 34889, 39009, 51241, 51233, 51273, 51305, 38985, 39017, 34857, 51305, 34921, 39017, 51233, 34921, 34849, 38953, 35369]\n",
      "[39017, 39017, 51233, 51233, 34921, 51273, 38953, 51817, 39017, 51305, 2666, 39017, 51809, 39017, 51305, 51241, 51305, 19051, 39017, 38953, 39017, 38953, 51249, 51433]\n"
     ]
    },
    {
     "name": "stdin",
     "output_type": "stream",
     "text": [
      "hello 39017\n"
     ]
    },
    {
     "data": {
      "text/plain": [
       "[57, 30, 27, 2]"
      ]
     },
     "execution_count": 2,
     "metadata": {},
     "output_type": "execute_result"
    }
   ],
   "source": [
    "import MetaTicTacToe\n",
    "from GeneticAlgorithm import GeneticAlgorithm, Heuristic\n",
    "h = Heuristic(MetaTicTacToe.Game)\n",
    "h.evaluate = lambda x: h.random_playout(x, n = 50)\n",
    "a = GeneticAlgorithm(7, h)\n",
    "a.game = MetaTicTacToe.Game(a, a)\n",
    "a.move()"
   ]
  },
  {
   "cell_type": "code",
   "execution_count": null,
   "metadata": {},
   "outputs": [
    {
     "name": "stdout",
     "output_type": "stream",
     "text": [
      "      |       |      \n",
      "      |       |      \n",
      "      |       |      \n",
      "---------------------\n",
      "      |       |      \n",
      "      |       |      \n",
      "      |       |      \n",
      "---------------------\n",
      "      |       |      \n",
      "      |       |      \n",
      "      |       |      \n",
      "macro boardstate: \n",
      "     \n",
      "     \n",
      "     \n",
      "all legal moves [0, 1, 2, 3, 4, 5, 6, 7, 8, 9, 10, 11, 12, 13, 14, 15, 16, 17, 18, 19, 20, 21, 22, 23, 24, 25, 26, 27, 28, 29, 30, 31, 32, 33, 34, 35, 36, 37, 38, 39, 40, 41, 42, 43, 44, 45, 46, 47, 48, 49, 50, 51, 52, 53, 54, 55, 56, 57, 58, 59, 60, 61, 62, 63, 64, 65, 66, 67, 68, 69, 70, 71, 72, 73, 74, 75, 76, 77, 78, 79, 80]\n"
     ]
    },
    {
     "name": "stdin",
     "output_type": "stream",
     "text": [
      "\tenter input here:  57\n"
     ]
    },
    {
     "name": "stdout",
     "output_type": "stream",
     "text": [
      "      |       |      \n",
      "      |       |      \n",
      "      |       |      \n",
      "---------------------\n",
      "      |       |      \n",
      "      |       |      \n",
      "      |       |      \n",
      "---------------------\n",
      "      |       |      \n",
      "0     |       |      \n",
      "      |       |      \n",
      "macro boardstate: \n",
      "     \n",
      "     \n",
      "     \n",
      "all legal moves [27, 28, 29, 30, 31, 32, 33, 34, 35]\n"
     ]
    },
    {
     "name": "stdin",
     "output_type": "stream",
     "text": [
      "\tenter input here:  30\n"
     ]
    },
    {
     "name": "stdout",
     "output_type": "stream",
     "text": [
      "      |       |      \n",
      "      |       |      \n",
      "      |       |      \n",
      "---------------------\n",
      "      |       |      \n",
      "1     |       |      \n",
      "      |       |      \n",
      "---------------------\n",
      "      |       |      \n",
      "0     |       |      \n",
      "      |       |      \n",
      "macro boardstate: \n",
      "     \n",
      "     \n",
      "     \n",
      "all legal moves [27, 28, 29, 31, 32, 33, 34, 35]\n"
     ]
    },
    {
     "name": "stdin",
     "output_type": "stream",
     "text": [
      "\tenter input here:  27\n"
     ]
    },
    {
     "name": "stdout",
     "output_type": "stream",
     "text": [
      "      |       |      \n",
      "      |       |      \n",
      "      |       |      \n",
      "---------------------\n",
      "0     |       |      \n",
      "1     |       |      \n",
      "      |       |      \n",
      "---------------------\n",
      "      |       |      \n",
      "0     |       |      \n",
      "      |       |      \n",
      "macro boardstate: \n",
      "     \n",
      "     \n",
      "     \n",
      "all legal moves [0, 1, 2, 3, 4, 5, 6, 7, 8]\n"
     ]
    },
    {
     "name": "stdin",
     "output_type": "stream",
     "text": [
      "\tenter input here:  2\n"
     ]
    },
    {
     "name": "stdout",
     "output_type": "stream",
     "text": [
      "    1 |       |      \n",
      "      |       |      \n",
      "      |       |      \n",
      "---------------------\n",
      "0     |       |      \n",
      "1     |       |      \n",
      "      |       |      \n",
      "---------------------\n",
      "      |       |      \n",
      "0     |       |      \n",
      "      |       |      \n",
      "macro boardstate: \n",
      "     \n",
      "     \n",
      "     \n",
      "all legal moves [18, 19, 20, 21, 22, 23, 24, 25, 26]\n"
     ]
    }
   ],
   "source": [
    "from BasicAlgorithms import PlayerInterface\n",
    "MetaTicTacToe.Game(PlayerInterface(), PlayerInterface()).game_start()"
   ]
  }
 ],
 "metadata": {
  "kernelspec": {
   "display_name": "Python 3",
   "language": "python",
   "name": "python3"
  },
  "language_info": {
   "codemirror_mode": {
    "name": "ipython",
    "version": 3
   },
   "file_extension": ".py",
   "mimetype": "text/x-python",
   "name": "python",
   "nbconvert_exporter": "python",
   "pygments_lexer": "ipython3",
   "version": "3.8.5"
  }
 },
 "nbformat": 4,
 "nbformat_minor": 4
}
