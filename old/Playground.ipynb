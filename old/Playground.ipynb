{
 "cells": [
  {
   "cell_type": "code",
   "execution_count": 1,
   "source": [
    "from BasicAlgorithms import PlayerInterface, RandomAlgorithm, TrueRandomAlgorithm\r\n",
    "from MonteCarloAlgorithm import MonteCarloAlgorithm\r\n",
    "from MinimaxAlgorithm import MinimaxAlgorithm, Heuristic"
   ],
   "outputs": [],
   "metadata": {}
  },
  {
   "cell_type": "code",
   "execution_count": 2,
   "source": [
    "import TicTacToe\r\n",
    "import MetaTicTacToe\r\n",
    "import MisereTicTacToe"
   ],
   "outputs": [],
   "metadata": {}
  },
  {
   "cell_type": "code",
   "execution_count": 3,
   "source": [
    "a = MonteCarloAlgorithm(100)\r\n",
    "game = MetaTicTacToe.Game(PlayerInterface(), a)\r\n",
    "game.game_start()"
   ],
   "outputs": [
    {
     "output_type": "stream",
     "name": "stdout",
     "text": [
      "      |       |      \n",
      "      |       |      \n",
      "      |       |      \n",
      "---------------------\n",
      "      |       |      \n",
      "      |       |      \n",
      "      |       |      \n",
      "---------------------\n",
      "      |       |      \n",
      "      |       |      \n",
      "      |       |      \n",
      "macro boardstate: \n",
      "     \n",
      "     \n",
      "     \n",
      "all legal moves [0, 1, 2, 3, 4, 5, 6, 7, 8, 9, 10, 11, 12, 13, 14, 15, 16, 17, 18, 19, 20, 21, 22, 23, 24, 25, 26, 27, 28, 29, 30, 31, 32, 33, 34, 35, 36, 37, 38, 39, 40, 41, 42, 43, 44, 45, 46, 47, 48, 49, 50, 51, 52, 53, 54, 55, 56, 57, 58, 59, 60, 61, 62, 63, 64, 65, 66, 67, 68, 69, 70, 71, 72, 73, 74, 75, 76, 77, 78, 79, 80]\n",
      "0     |       |      \n",
      "    1 |       |      \n",
      "      |       |      \n",
      "---------------------\n",
      "      |       |      \n",
      "      |       |      \n",
      "      |       |      \n",
      "---------------------\n",
      "      |       |      \n",
      "      |       |      \n",
      "      |       |      \n",
      "macro boardstate: \n",
      "     \n",
      "     \n",
      "     \n",
      "all legal moves [45, 46, 47, 48, 49, 50, 51, 52, 53]\n"
     ]
    },
    {
     "output_type": "error",
     "ename": "ValueError",
     "evalue": "invalid literal for int() with base 10: ''",
     "traceback": [
      "\u001b[1;31m---------------------------------------------------------------------------\u001b[0m",
      "\u001b[1;31mValueError\u001b[0m                                Traceback (most recent call last)",
      "\u001b[1;32m~\\AppData\\Local\\Temp/ipykernel_2672/3354350817.py\u001b[0m in \u001b[0;36m<module>\u001b[1;34m\u001b[0m\n\u001b[0;32m      1\u001b[0m \u001b[0ma\u001b[0m \u001b[1;33m=\u001b[0m \u001b[0mMonteCarloAlgorithm\u001b[0m\u001b[1;33m(\u001b[0m\u001b[1;36m100\u001b[0m\u001b[1;33m)\u001b[0m\u001b[1;33m\u001b[0m\u001b[1;33m\u001b[0m\u001b[0m\n\u001b[0;32m      2\u001b[0m \u001b[0mgame\u001b[0m \u001b[1;33m=\u001b[0m \u001b[0mMetaTicTacToe\u001b[0m\u001b[1;33m.\u001b[0m\u001b[0mGame\u001b[0m\u001b[1;33m(\u001b[0m\u001b[0mPlayerInterface\u001b[0m\u001b[1;33m(\u001b[0m\u001b[1;33m)\u001b[0m\u001b[1;33m,\u001b[0m \u001b[0ma\u001b[0m\u001b[1;33m)\u001b[0m\u001b[1;33m\u001b[0m\u001b[1;33m\u001b[0m\u001b[0m\n\u001b[1;32m----> 3\u001b[1;33m \u001b[0mgame\u001b[0m\u001b[1;33m.\u001b[0m\u001b[0mgame_start\u001b[0m\u001b[1;33m(\u001b[0m\u001b[1;33m)\u001b[0m\u001b[1;33m\u001b[0m\u001b[1;33m\u001b[0m\u001b[0m\n\u001b[0m",
      "\u001b[1;32md:\\NUS\\Algor\\game_template.py\u001b[0m in \u001b[0;36mgame_start\u001b[1;34m(self, hide)\u001b[0m\n\u001b[0;32m     83\u001b[0m         \u001b[1;32mwhile\u001b[0m \u001b[0mself\u001b[0m\u001b[1;33m.\u001b[0m\u001b[0mresult\u001b[0m\u001b[1;33m(\u001b[0m\u001b[1;33m)\u001b[0m \u001b[1;33m==\u001b[0m \u001b[1;34m'pending'\u001b[0m\u001b[1;33m:\u001b[0m\u001b[1;33m\u001b[0m\u001b[1;33m\u001b[0m\u001b[0m\n\u001b[0;32m     84\u001b[0m             \u001b[0mturn\u001b[0m \u001b[1;33m=\u001b[0m \u001b[0mself\u001b[0m\u001b[1;33m.\u001b[0m\u001b[0mgamestate\u001b[0m\u001b[1;33m[\u001b[0m\u001b[1;34m'turn'\u001b[0m\u001b[1;33m]\u001b[0m\u001b[1;33m\u001b[0m\u001b[1;33m\u001b[0m\u001b[0m\n\u001b[1;32m---> 85\u001b[1;33m             \u001b[0mself\u001b[0m\u001b[1;33m.\u001b[0m\u001b[0mplayers\u001b[0m\u001b[1;33m[\u001b[0m\u001b[0mturn\u001b[0m\u001b[1;33m]\u001b[0m\u001b[1;33m.\u001b[0m\u001b[0mmove\u001b[0m\u001b[1;33m(\u001b[0m\u001b[1;33m)\u001b[0m\u001b[1;33m\u001b[0m\u001b[1;33m\u001b[0m\u001b[0m\n\u001b[0m\u001b[0;32m     86\u001b[0m         \u001b[1;32mif\u001b[0m \u001b[1;32mnot\u001b[0m \u001b[0mhide\u001b[0m\u001b[1;33m:\u001b[0m\u001b[1;33m\u001b[0m\u001b[1;33m\u001b[0m\u001b[0m\n\u001b[0;32m     87\u001b[0m             \u001b[0mself\u001b[0m\u001b[1;33m.\u001b[0m\u001b[0mget_boardstate\u001b[0m\u001b[1;33m(\u001b[0m\u001b[1;33m)\u001b[0m\u001b[1;33m\u001b[0m\u001b[1;33m\u001b[0m\u001b[0m\n",
      "\u001b[1;32md:\\NUS\\Algor\\BasicAlgorithms.py\u001b[0m in \u001b[0;36mmove\u001b[1;34m(self)\u001b[0m\n\u001b[0;32m     56\u001b[0m         \u001b[1;32mif\u001b[0m \u001b[0mlen\u001b[0m\u001b[1;33m(\u001b[0m\u001b[0minstructions\u001b[0m\u001b[1;33m)\u001b[0m \u001b[1;33m==\u001b[0m \u001b[1;36m1\u001b[0m\u001b[1;33m:\u001b[0m\u001b[1;33m\u001b[0m\u001b[1;33m\u001b[0m\u001b[0m\n\u001b[0;32m     57\u001b[0m             \u001b[0mline\u001b[0m \u001b[1;33m=\u001b[0m \u001b[0minput\u001b[0m\u001b[1;33m(\u001b[0m\u001b[1;34m'\\tenter '\u001b[0m\u001b[1;33m+\u001b[0m\u001b[0minstructions\u001b[0m\u001b[1;33m[\u001b[0m\u001b[1;36m0\u001b[0m\u001b[1;33m]\u001b[0m\u001b[1;33m+\u001b[0m\u001b[1;34m' here: '\u001b[0m\u001b[1;33m)\u001b[0m\u001b[1;33m\u001b[0m\u001b[1;33m\u001b[0m\u001b[0m\n\u001b[1;32m---> 58\u001b[1;33m             \u001b[0mself\u001b[0m\u001b[1;33m.\u001b[0m\u001b[0mgame\u001b[0m\u001b[1;33m.\u001b[0m\u001b[0mmake_move\u001b[0m\u001b[1;33m(\u001b[0m\u001b[0mint\u001b[0m\u001b[1;33m(\u001b[0m\u001b[0mline\u001b[0m\u001b[1;33m)\u001b[0m\u001b[1;33m)\u001b[0m\u001b[1;33m\u001b[0m\u001b[1;33m\u001b[0m\u001b[0m\n\u001b[0m\u001b[0;32m     59\u001b[0m             \u001b[1;32mreturn\u001b[0m\u001b[1;33m\u001b[0m\u001b[1;33m\u001b[0m\u001b[0m\n\u001b[0;32m     60\u001b[0m \u001b[1;33m\u001b[0m\u001b[0m\n",
      "\u001b[1;31mValueError\u001b[0m: invalid literal for int() with base 10: ''"
     ]
    }
   ],
   "metadata": {}
  },
  {
   "cell_type": "code",
   "execution_count": null,
   "source": [
    "game = MisereTicTacToe.Game(RandomAlgorithm(), RandomAlgorithm())\r\n",
    "def create_tree(gamestate, depth):\r\n",
    "    if not gamestate:\r\n",
    "        gamestate = game.gamestate\r\n",
    "    all_moves = game.get_legal_moves(gamestate)\r\n",
    "    if len(all_moves) == 0 or depth == 0:\r\n",
    "        return 1\r\n",
    "    return sum([create_tree(game.project_move(gamestate, move), depth - 1) for move in all_moves])\r\n",
    "\r\n",
    "create_tree(None)"
   ],
   "outputs": [],
   "metadata": {}
  },
  {
   "cell_type": "code",
   "execution_count": null,
   "source": [
    "game = TicTacToe.Game(RandomAlgorithm(), RandomAlgorithm())\r\n",
    "def create_tree(gamestate):\r\n",
    "    if not gamestate:\r\n",
    "        gamestate = game.gamestate\r\n",
    "    all_moves = game.get_legal_moves(gamestate)\r\n",
    "    if len(all_moves) == 0:\r\n",
    "        return 1\r\n",
    "    return sum([create_tree(game.project_move(gamestate, move)) for move in all_moves])\r\n",
    "\r\n",
    "create_tree(None)"
   ],
   "outputs": [],
   "metadata": {}
  },
  {
   "cell_type": "code",
   "execution_count": null,
   "source": [
    "import MetaTicTacToe\n",
    "game = MetaTicTacToe.Game(RandomAlgorithm(), RandomAlgorithm())\n",
    "def create_tree(gamestate, depth):\n",
    "    if not gamestate:\n",
    "        gamestate = game.gamestate\n",
    "    all_moves = game.get_legal_moves(gamestate)\n",
    "    if len(all_moves) == 0 or depth == 0:\n",
    "        return 1\n",
    "    return sum([create_tree(game.project_move(gamestate, move), depth - 1) for move in all_moves])\n",
    "\n",
    "create_tree(None, 5)"
   ],
   "outputs": [],
   "metadata": {}
  },
  {
   "cell_type": "code",
   "execution_count": null,
   "source": [
    "def f(gamestate):\n",
    "    lines = [[0,1,2], [3,4,5], [6,7,8], [0,3,6], [1,4,7], [2,5,8], [0,4,8], [6, 4, 2]]\n",
    "    player0, player1 = 0, 0\n",
    "    for line in lines:\n",
    "#         if sum([gamestate['board'][index] > 0 for index in line]) == 2:\n",
    "#             player0 += 20\n",
    "        if sum([gamestate['board'][index] > 0 for index in line]) == 3:\n",
    "            player0 += 100 * (len(gamestate['player0'])+len(gamestate['player1']))\n",
    "#         if sum([gamestate['board'][index] < 0 for index in line]) == 2:\n",
    "#             player1 += 20\n",
    "        if sum([gamestate['board'][index] < 0 for index in line]) == 3:\n",
    "            player1 += 100 * (len(gamestate['player0'])+len(gamestate['player1']))\n",
    "    # normalize heuristic scores to zero-sum game\n",
    "    return [(player0-player1)/2, (player1-player0)/2]\n",
    "\n",
    "hi = f\n",
    "test = Heuristic()\n",
    "test.evaluate = hi"
   ],
   "outputs": [],
   "metadata": {}
  },
  {
   "cell_type": "code",
   "execution_count": null,
   "source": [
    "SinglePlayerGame.Game(RandomAlgorithm()).game_start()"
   ],
   "outputs": [],
   "metadata": {
    "tags": []
   }
  },
  {
   "cell_type": "code",
   "execution_count": null,
   "source": [
    "RussianDollTicTacToe.Game(PlayerInterface(), a).game_start()"
   ],
   "outputs": [],
   "metadata": {}
  },
  {
   "cell_type": "code",
   "execution_count": null,
   "source": [
    "RussianDollTicTacToe.Game(a, PlayerInterface()).game_start()"
   ],
   "outputs": [],
   "metadata": {}
  }
 ],
 "metadata": {
  "kernelspec": {
   "name": "python3",
   "display_name": "Python 3.9.7 64-bit"
  },
  "language_info": {
   "codemirror_mode": {
    "name": "ipython",
    "version": 3
   },
   "file_extension": ".py",
   "mimetype": "text/x-python",
   "name": "python",
   "nbconvert_exporter": "python",
   "pygments_lexer": "ipython3",
   "version": "3.9.7"
  },
  "interpreter": {
   "hash": "78a63328c85f9754fd11a80318b6b19a6eb2bc697ea41eab044e15029643efd4"
  }
 },
 "nbformat": 4,
 "nbformat_minor": 4
}